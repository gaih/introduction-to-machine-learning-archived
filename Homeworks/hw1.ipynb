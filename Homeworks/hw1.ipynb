{
  "nbformat": 4,
  "nbformat_minor": 0,
  "metadata": {
    "colab": {
      "name": "hw1.ipynb",
      "provenance": [],
      "authorship_tag": "ABX9TyPzHIO5FxeygPikKZbMThHh",
      "include_colab_link": true
    },
    "kernelspec": {
      "name": "python3",
      "display_name": "Python 3"
    },
    "language_info": {
      "name": "python"
    }
  },
  "cells": [
    {
      "cell_type": "markdown",
      "metadata": {
        "id": "view-in-github",
        "colab_type": "text"
      },
      "source": [
        "<a href=\"https://colab.research.google.com/github/hadiSahin/introduction-to-machine-learning/blob/main/Homeworks/hw1.ipynb\" target=\"_parent\"><img src=\"https://colab.research.google.com/assets/colab-badge.svg\" alt=\"Open In Colab\"/></a>"
      ]
    },
    {
      "cell_type": "markdown",
      "metadata": {
        "id": "y6CrBwK6_Bso"
      },
      "source": [
        "1. How would you define Machine Learning?\n"
      ]
    },
    {
      "cell_type": "markdown",
      "metadata": {
        "id": "eLCe9w7z_2VB"
      },
      "source": [
        "Insanların kucuk olcekli verilerde yapabildigi tanimlama, analiz etme, sebep-sonuc iliskisi cikarma gibi zihinsel aktiviteleri buyuk boyutlu veriler icin ve daha hızlı bir sekilde, model ve algorithmalar yardımıyla yapma. "
      ]
    },
    {
      "cell_type": "markdown",
      "metadata": {
        "id": "b4JswKrsAvT6"
      },
      "source": [
        "2. What are the differences between Supervised and Unsupervised Learning Specify example 3 algorithms for each of these."
      ]
    },
    {
      "cell_type": "markdown",
      "metadata": {
        "id": "F0cHrQBDBKGY"
      },
      "source": [
        "Supervised learning, bagimli degiskenimizin, outputumuzun, dogru degerinin onceden tanımlandıgı, algoritmamızın bu tanımlama uzerine egitildigi ve daha sonra verilen yeni veriler icin tanımlama yapılması istendigi makine ogrenmesidir. Spam email karar verme, belli bir resime benzerlik belirleme, konum, buyukluk gibi ozellikler kullanılarak ev fiyatlarının tahmin edilmesi (continuous veriler icin ornek) ornekler olabilir. Unsupervised learningde outputumuz onceden tanımlı degildir. Algoritmayla verimizde bir düzen, patern bulmaya calisarak verimizi anlamlandırmaya calisiriz. Ornek: musteri segmentlerini tanımlama, anamoli belirleme, musteri arama ve alisveris gecmisine gore tavsiyeler olusturma.\n",
        " "
      ]
    },
    {
      "cell_type": "markdown",
      "metadata": {
        "id": "Top-Cwn1ESdN"
      },
      "source": [
        "3. What are the test and validation set, and why would you want to use them?"
      ]
    },
    {
      "cell_type": "markdown",
      "metadata": {
        "id": "vHJS_JaaEZlG"
      },
      "source": [
        "iki grup veri seti de veri ogrenme asamasinda kullanılmaz. iki sette de egitim setinde olusturulan modelin basarisi test edilir. Fakat validation seti kullandıgımız asamada modelimizde degiksiklikler, iyileştirmeler yapabiliriz, yapmalıyız. validation ve training setleri daha kucuk esit bolumlere ayrılarak en iyi sonuc veren parametler belirlenebilir. Son asamada test set kullanılır. Test set, olusturdugumuz modelin nihai olarak test edilecegi orneklemdir. Bu uclu orneklem yapısı, modelimizin cok daha farklı veri setlerinde basarili sonuclar verebilirligi konusunda bize ekstra biz guvenlik saglamis olur."
      ]
    },
    {
      "cell_type": "markdown",
      "metadata": {
        "id": "oekpxWGdGecp"
      },
      "source": [
        "4. What are the main preprocessing steps? Explain them in detail. Why we need to prepare our data?"
      ]
    },
    {
      "cell_type": "markdown",
      "metadata": {
        "id": "Wua-eZwHGhEx"
      },
      "source": [
        "Verimizdeki ekstrem degerler, anomaliler, eksiklikler olusacak modelimizi etkiler. bu durumların farkında olarak algoritma olusturmamız gerekir.\n",
        "\n",
        "a. tekrar eden verileri, satırları, kaldırma. duruma gore, tekrar eden degerler bir veri kategorisinin olması gerekenden daha fazla agirlik sahibi olmasına sebep olabilir.\n",
        "\n",
        "b. dengesiz veri. elimizdeki veri bazı konu ve kategorilerde daha az bilgi icerebilir. bu veriden cikarmamız gereken sonucu etkileyecektir. duruma gore verimizi daha denegeli bir onekleme cevirebiliriz. Fakat bu her durum icin gecerli degildir. anomliyi olcmek istedigimiz bir orneklemde anomalinin az olmasi bekledigimiz birseydir.\n",
        "\n",
        "c. eksik veri cikarma, ya da bir metoda, ortalama degerler olabilir, gore yerlerini doldurma. belli sutunlardaki verileri eksik bırakma tum satırın dikkate alınmamasını saglayacaktır. bunun getirisi ve goturusunun iyi degerlendirilerek karar verilmesi gerekir.\n",
        "\n",
        "d. outlier detection. ekstrem noktaların belirlenmesi. bunlar analimizin bir yonde bias olmasına sebep olabilir. istatistik, gorsellestirme yada ML kutuphaneleri kullanılarak tespit edilebilir. ekstrem noktalar, duruma gore, analizden cikartilabilir.\n",
        "\n",
        "e. Feature scaling. farklı olcum degerleri olan sutunların olması gerekenden az ya da fazla sonuca etki etmemesi icin yapılmalidir. Ev fiyatları icin oda sayısı ve buyukluk cok farklı olceklerdedir bunların benzer olceklere indirgenmesi faydalı olacaktır. standardizasyon ya da normalizasyon metodları kullanılarak yapılabilir.\n",
        "\n",
        "f. veriyi daha anlamlı hale getirmek icin belirli aralıklar arasında tanımlama yapılabilir. mesela yas icin 10 yıllık kategoriler daha anlamli olabilir.\n",
        "\n",
        "g. feature extraction. birbirine yakın degiskenlerin, ozellikle yuksek koreslasyonu olanların, veriden cikarılması ya da birleştirilmesi daha unbiased sonuclar verecektir.\n",
        "\n",
        "h. feature encoding. kategorik verilerin sayısal hale getirilerek, analiz icin kullanılabilir hale getirilmesi. ulke, sehir, cinsiyet kategorileri gibi.\n",
        "\n"
      ]
    },
    {
      "cell_type": "markdown",
      "metadata": {
        "id": "5cOHacLxM66U"
      },
      "source": [
        "5. How you can explore countionus and discrete variables?"
      ]
    },
    {
      "cell_type": "markdown",
      "metadata": {
        "id": "Suvgj81CNanV"
      },
      "source": [
        "Discrete variable: histogram, sutun, pasta grafikleri kullanılarak analiz edilebilir. \n",
        "\n",
        "continuous variable: cizgi, kutu, yogunluk, ve histogram grafikleri kullanılarak analiz edilebilir."
      ]
    },
    {
      "cell_type": "markdown",
      "metadata": {
        "id": "qnG7BFsFZmfW"
      },
      "source": [
        "6. Analyse the plot given below. (What is the plot and variable type, check the distribution and make comment about how you can preproccess it.)"
      ]
    },
    {
      "cell_type": "markdown",
      "metadata": {
        "id": "webZCOZZZqzg"
      },
      "source": [
        "Değişkenimiz continuous variable dır, taç yaprağının genişliğini olcmektedir. Grafigimiz histogram ve density grafiklerini ust uste gostermektedir. Burda gordugumuz dagılımın normal olmadıgıdır. sol tarafa dogru bir yogunluk oldugu gorulmektedir. veri preprocess asamasında standardizasyon, yada petal genisliginin logartiması alınarak daha normal bir dagilim yapılabilir."
      ]
    }
  ]
}