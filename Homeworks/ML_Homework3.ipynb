{
  "nbformat": 4,
  "nbformat_minor": 0,
  "metadata": {
    "kernelspec": {
      "display_name": "Python 3",
      "language": "python",
      "name": "python3"
    },
    "language_info": {
      "codemirror_mode": {
        "name": "ipython",
        "version": 3
      },
      "file_extension": ".py",
      "mimetype": "text/x-python",
      "name": "python",
      "nbconvert_exporter": "python",
      "pygments_lexer": "ipython3",
      "version": "3.7.3"
    },
    "colab": {
      "name": "ML_Homework3.ipynb",
      "provenance": []
    }
  },
  "cells": [
    {
      "cell_type": "markdown",
      "metadata": {
        "id": "LeSxH2p71hE_"
      },
      "source": [
        "## Homework 3\n",
        "\n",
        "* Generate dataset using `make_classification` function in the sklearn.datasets class. Generate 10000 samples with 8 features (X) with one label (y). Also, use following parameters    \n",
        "    * `n_informative` = 5\n",
        "    *  `class_sep` = 2\n",
        "    * `random_state` = 42\n",
        "* Explore and analyse raw data.\n",
        "* Do preprocessing for classification.\n",
        "* Split your dataset into train and test test (0.7 for train and 0.3 for test).\n",
        "* Try Decision Tree and XGBoost Algorithm with different hyperparameters. (Using GridSearchCV is a plus)\n",
        "* Evaluate your result on both train and test set. Analyse if there is any underfitting or overfitting problem. Make your comments."
      ]
    },
    {
      "cell_type": "code",
      "metadata": {
        "id": "e4vcrjaL1hFK"
      },
      "source": [
        "# Import necessary libraries"
      ],
      "execution_count": null,
      "outputs": []
    },
    {
      "cell_type": "code",
      "metadata": {
        "id": "CC3DSbYZ1hFL"
      },
      "source": [
        "# Generate dataset using make_classification function in the sklearn. \n",
        "# Convert it into pandas dataframe."
      ],
      "execution_count": null,
      "outputs": []
    },
    {
      "cell_type": "code",
      "metadata": {
        "id": "33bwR0FZ1hFL"
      },
      "source": [
        "# Check duplicate values and missing data."
      ],
      "execution_count": null,
      "outputs": []
    },
    {
      "cell_type": "code",
      "metadata": {
        "id": "i7pgkDqx1hFM"
      },
      "source": [
        "# Visualize data for each feature (pairplot,distplot)."
      ],
      "execution_count": null,
      "outputs": []
    },
    {
      "cell_type": "code",
      "metadata": {
        "id": "IZnN7ISP1hFM"
      },
      "source": [
        "# Draw correlation matrix."
      ],
      "execution_count": null,
      "outputs": []
    },
    {
      "cell_type": "code",
      "metadata": {
        "id": "jirBAqpP1hFM"
      },
      "source": [
        "# Handle outliers (you can use IsolationForest, Z-score, IQR)"
      ],
      "execution_count": null,
      "outputs": []
    },
    {
      "cell_type": "code",
      "metadata": {
        "id": "OWxHleiK1hFM"
      },
      "source": [
        "# Split dataset into train and test set"
      ],
      "execution_count": null,
      "outputs": []
    },
    {
      "cell_type": "code",
      "metadata": {
        "id": "phwFv2mX1hFN"
      },
      "source": [
        "# Import Decision Tree, define different hyperparamters and tune the algorithm."
      ],
      "execution_count": null,
      "outputs": []
    },
    {
      "cell_type": "code",
      "metadata": {
        "id": "XMoW2J-s1hFN"
      },
      "source": [
        "# Visualize feature importances."
      ],
      "execution_count": null,
      "outputs": []
    },
    {
      "cell_type": "code",
      "metadata": {
        "id": "1ml8mv431hFN"
      },
      "source": [
        "# Create confusion matrix and calculate accuracy, recall, precision and f1 score."
      ],
      "execution_count": null,
      "outputs": []
    },
    {
      "cell_type": "code",
      "metadata": {
        "id": "uPoKe_641hFN"
      },
      "source": [
        "# Import XGBoostClassifier, define different hyperparamters and tune the algorithm."
      ],
      "execution_count": null,
      "outputs": []
    },
    {
      "cell_type": "code",
      "metadata": {
        "id": "Jn89xQic1hFO"
      },
      "source": [
        "# Visualize feature importances."
      ],
      "execution_count": null,
      "outputs": []
    },
    {
      "cell_type": "code",
      "metadata": {
        "id": "3aqlPtJP1hFO"
      },
      "source": [
        "# Create confusion matrix and calculate accuracy, recall, precision and f1 score."
      ],
      "execution_count": null,
      "outputs": []
    },
    {
      "cell_type": "code",
      "metadata": {
        "id": "sKq6RZL51hFO"
      },
      "source": [
        "# Evaluate your result and select best performing algorithm for our case."
      ],
      "execution_count": null,
      "outputs": []
    }
  ]
}